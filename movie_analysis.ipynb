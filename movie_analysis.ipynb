{
 "cells": [
  {
   "cell_type": "code",
   "execution_count": 1,
   "source": [
    "#Problem Description\n",
    "#You have two files named movies_en.json and artists_en.json containing a small movie database in the JSON format. \n",
    "# You need to load them into Spark Data frames and perform analysis.\n",
    "\n",
    "\n",
    "#Spark Imports and Get Context\n",
    "\n",
    "#https://spark.apache.org/docs/latest/sql-getting-started.html\n",
    "from pyspark import SparkContext, SparkConf, SQLContext\n",
    "from os import getcwd\n",
    "\n",
    "conf = SparkConf().setAppName('SparkS1')\n",
    "sc = SparkContext(conf=conf).getOrCreate()\n",
    "spark = SQLContext.getOrCreate(sc)"
   ],
   "outputs": [],
   "metadata": {}
  },
  {
   "cell_type": "code",
   "execution_count": 3,
   "source": [
    "#Import movieDF and print \n",
    "movieJDF = spark.read.json('datasets/movie/movies_en_1_0.txt')\n",
    "movieJDF.printSchema()\n",
    "movieJDF.show(5)"
   ],
   "outputs": [
    {
     "output_type": "stream",
     "name": "stdout",
     "text": [
      "root\n",
      " |-- actors: array (nullable = true)\n",
      " |    |-- element: struct (containsNull = true)\n",
      " |    |    |-- id: string (nullable = true)\n",
      " |    |    |-- role: string (nullable = true)\n",
      " |-- country: string (nullable = true)\n",
      " |-- director: struct (nullable = true)\n",
      " |    |-- first_name: string (nullable = true)\n",
      " |    |-- id: string (nullable = true)\n",
      " |    |-- last_name: string (nullable = true)\n",
      " |    |-- year_of_birth: string (nullable = true)\n",
      " |-- genre: string (nullable = true)\n",
      " |-- id: string (nullable = true)\n",
      " |-- summary: string (nullable = true)\n",
      " |-- title: string (nullable = true)\n",
      " |-- year: long (nullable = true)\n",
      "\n",
      "+--------------------+-------+--------------------+---------------+-------+--------------------+-------------+----+\n",
      "|              actors|country|            director|          genre|     id|             summary|        title|year|\n",
      "+--------------------+-------+--------------------+---------------+-------+--------------------+-------------+----+\n",
      "|[{artist:15, John...|    USA|{Alfred, artist:3...|          Drama|movie:1|A retired San Fra...|      Vertigo|1958|\n",
      "|[{artist:5, Ripley}]|    USA|{Ridley, artist:4...|Science-Fiction|movie:2|The commercial ve...|        Alien|1979|\n",
      "|[{artist:109, Ros...|    USA|{James, artist:6,...|          Drama|movie:3|A seventeen-year-...|      Titanic|1997|\n",
      "|                  []|     FR|{Andrei, artist:9...|          drama|movie:4|                null|The Sacrifice|1986|\n",
      "|[{artist:11, Sean...|    USA|{John, artist:10,...|         Action|movie:5|To foil an extort...|     Face/Off|1997|\n",
      "+--------------------+-------+--------------------+---------------+-------+--------------------+-------------+----+\n",
      "only showing top 5 rows\n",
      "\n"
     ]
    }
   ],
   "metadata": {}
  },
  {
   "cell_type": "code",
   "execution_count": 5,
   "source": [
    "# Import artistDF and print\n",
    "artistsJDF = spark.read.json('datasets/movie/artists_en_1_2.txt')\n",
    "artistsJDF.printSchema()\n",
    "artistsJDF.show(5)"
   ],
   "outputs": [
    {
     "output_type": "stream",
     "name": "stdout",
     "text": [
      "root\n",
      " |-- first_name: string (nullable = true)\n",
      " |-- id: string (nullable = true)\n",
      " |-- last_name: string (nullable = true)\n",
      " |-- year_of_birth: string (nullable = true)\n",
      "\n",
      "+----------+--------+---------+-------------+\n",
      "|first_name|      id|last_name|year_of_birth|\n",
      "+----------+--------+---------+-------------+\n",
      "|     Sofia|artist:1|  Coppola|         1971|\n",
      "|   Kirsten|artist:2|    Dunst|         null|\n",
      "|    Alfred|artist:3|Hitchcock|         1899|\n",
      "|    Ridley|artist:4|    Scott|         1937|\n",
      "| Sigourney|artist:5|   Weaver|         1949|\n",
      "+----------+--------+---------+-------------+\n",
      "only showing top 5 rows\n",
      "\n"
     ]
    }
   ],
   "metadata": {}
  },
  {
   "cell_type": "code",
   "execution_count": 6,
   "source": [
    "#Assignment 2 - Write a query to group titles of American movies by year\n",
    "\n",
    "from pyspark.sql.functions import *\n",
    "\t\t\n",
    "AmericanMDF = movieJDF.filter(movieJDF.country == 'USA')\n",
    "AmericanMDFL = AmericanMDF.withColumn('AmericalMovies', struct('title')).groupBy('year').agg(collect_list('AmericalMovies').alias('AmericalMovies'))\n",
    "AmericanMDFL.show(5,truncate = False)"
   ],
   "outputs": [
    {
     "output_type": "stream",
     "name": "stdout",
     "text": [
      "+----+----------------------------------------------+\n",
      "|year|AmericalMovies                                |\n",
      "+----+----------------------------------------------+\n",
      "|1958|[{Vertigo}]                                   |\n",
      "|1983|[{Star Wars: Episode VI - Return of the Jedi}]|\n",
      "|1972|[{The Godfather}]                             |\n",
      "|1979|[{Alien}]                                     |\n",
      "|1988|[{Die Hard}, {Rain Man}]                      |\n",
      "+----+----------------------------------------------+\n",
      "only showing top 5 rows\n",
      "\n"
     ]
    }
   ],
   "metadata": {}
  },
  {
   "cell_type": "code",
   "execution_count": 8,
   "source": [
    "#Assignment 3 : Write spark code to normalize the data frames created above and store the output as Parquet files\n",
    "\n",
    "artistsJDF.write.parquet('datasets/artistp') #artistDF as parquet, requires hadoop\n",
    "\n",
    "##Exploding array columns\n",
    "\t\t\n",
    "movieJDF1 = movieJDF.withColumn('actors',explode(col('actors'))).select(col('actors.id').alias('actorid'),col('actors.role').alias('actorrole'),'country','director','genre','id','summary','title','year')\n",
    "\t\t\n",
    "movieJDF2 = movieJDF1.select('actorid','actorrole','country',col('director.first_name').alias('director_fname'),col('director.id').alias('director_id'),col('director.last_name').alias('director_lname'),col('director.year_of_birth').alias('director_YOB'),'genre','id','summary','title','year')\n",
    "movieJDF2.show()\n",
    "movieJDF2.write.parquet('datasets/moviesp') #movieDF as parquet,requires hadoop\n",
    "\n",
    "#Store link between Movie, Artist and Role played \n",
    "\t\t\n",
    "artistRoles = movieJDF.withColumn('actor',explode(col('actors'))).select('title','actor.id','actor.role')\n",
    "artistRoleName = artistRoles.join(artistsJDF,'id','inner').select('title','id','role',concat(col('first_name'),lit(' '),col('last_name')).alias('artist_name')).sort('title')\n",
    "artistRoleName.show()\n",
    "\n",
    "\n",
    "artistRoleName.write.parquet('datasets/artistrolep') #artistRoleName as parquet,requires hadoop"
   ],
   "outputs": [
    {
     "output_type": "stream",
     "name": "stdout",
     "text": [
      "+----------+--------------------+-------+--------------+-----------+--------------+------------+---------------+--------+--------------------+---------------+----+\n",
      "|   actorid|           actorrole|country|director_fname|director_id|director_lname|director_YOB|          genre|      id|             summary|          title|year|\n",
      "+----------+--------------------+-------+--------------+-----------+--------------+------------+---------------+--------+--------------------+---------------+----+\n",
      "| artist:15|       John Ferguson|    USA|        Alfred|   artist:3|     Hitchcock|        1899|          Drama| movie:1|A retired San Fra...|        Vertigo|1958|\n",
      "| artist:16|    Madeleine Elster|    USA|        Alfred|   artist:3|     Hitchcock|        1899|          Drama| movie:1|A retired San Fra...|        Vertigo|1958|\n",
      "|  artist:5|              Ripley|    USA|        Ridley|   artist:4|         Scott|        1937|Science-Fiction| movie:2|The commercial ve...|          Alien|1979|\n",
      "|artist:109| Rose DeWitt Bukater|    USA|         James|   artist:6|       Cameron|        1954|          Drama| movie:3|A seventeen-year-...|        Titanic|1997|\n",
      "|artist:110|         Jack Dawson|    USA|         James|   artist:6|       Cameron|        1954|          Drama| movie:3|A seventeen-year-...|        Titanic|1997|\n",
      "| artist:11|Sean Archer/Casto...|    USA|          John|  artist:10|           Woo|        1946|         Action| movie:5|To foil an extort...|       Face/Off|1997|\n",
      "| artist:12|Castor Troy/Sean ...|    USA|          John|  artist:10|           Woo|        1946|         Action| movie:5|To foil an extort...|       Face/Off|1997|\n",
      "| artist:14|Constable Ichabod...|    USA|           Tim|  artist:13|        Burton|        1958|        Mystery| movie:6|Ichabod Crane is ...|  Sleepy Hollow|1999|\n",
      "| artist:96|Katrina Anne Van ...|    USA|           Tim|  artist:13|        Burton|        1958|        Mystery| movie:6|Ichabod Crane is ...|  Sleepy Hollow|1999|\n",
      "| artist:97|          The knight|    USA|           Tim|  artist:13|        Burton|        1958|        Mystery| movie:6|Ichabod Crane is ...|  Sleepy Hollow|1999|\n",
      "| artist:18|      Lester Burnham|    USA|           Sam|  artist:17|        Mendes|        1965|          Drama| movie:7|A sexually frustr...|American Beauty|1999|\n",
      "| artist:19|     Carolyn Burnham|    USA|           Sam|  artist:17|        Mendes|        1965|          Drama| movie:7|A sexually frustr...|American Beauty|1999|\n",
      "| artist:20|       William Munny|    USA|         Clint|  artist:20|      Eastwood|        1930|        Western| movie:8|Retired Old West ...|     Unforgiven|1992|\n",
      "| artist:21|  Little Bill Dagget|    USA|         Clint|  artist:20|      Eastwood|        1930|        Western| movie:8|Retired Old West ...|     Unforgiven|1992|\n",
      "| artist:22|           Ned Logan|    USA|         Clint|  artist:20|      Eastwood|        1930|        Western| movie:8|Retired Old West ...|     Unforgiven|1992|\n",
      "| artist:23|             Maximus|    USA|        Ridley|   artist:4|         Scott|        1937|          Drama| movie:9|When a Roman gene...|      Gladiator|2000|\n",
      "|artist:147|            Commodus|    USA|        Ridley|   artist:4|         Scott|        1937|          Drama| movie:9|When a Roman gene...|      Gladiator|2000|\n",
      "|artist:148|             Lucilla|    USA|        Ridley|   artist:4|         Scott|        1937|          Drama| movie:9|When a Roman gene...|      Gladiator|2000|\n",
      "|artist:149|     Marcus Aurelius|    USA|        Ridley|   artist:4|         Scott|        1937|          Drama| movie:9|When a Roman gene...|      Gladiator|2000|\n",
      "| artist:24|             Deckard|    USA|        Ridley|   artist:4|         Scott|        1937|         Action|movie:10|A blade runner mu...|   Blade Runner|1982|\n",
      "+----------+--------------------+-------+--------------+-----------+--------------+------------+---------------+--------+--------------------+---------------+----+\n",
      "only showing top 20 rows\n",
      "\n",
      "+--------------------+----------+--------------------+-----------------+\n",
      "|               title|        id|                role|      artist_name|\n",
      "+--------------------+----------+--------------------+-----------------+\n",
      "|      Absolute Power| artist:69|          Seth Frank|        Ed Harris|\n",
      "|      Absolute Power| artist:21|  President Richmond|     Gene Hackman|\n",
      "|      Absolute Power| artist:20|      Luther Whitney|   Clint Eastwood|\n",
      "|               Alien|  artist:5|              Ripley| Sigourney Weaver|\n",
      "|     American Beauty| artist:18|      Lester Burnham|     Kevin Spacey|\n",
      "|     American Beauty| artist:19|     Carolyn Burnham|    Anette Bening|\n",
      "|      Bad Lieutenant| artist:98|      The Lieutenant|    Harvey Keitel|\n",
      "|        Blade Runner| artist:25|               Batty|     Rutger Hauer|\n",
      "|        Blade Runner| artist:24|             Deckard|    Harrison Ford|\n",
      "|            Die Hard| artist:27|             McClane|     Bruce Willis|\n",
      "|          Die Hard 2| artist:27|             McClane|     Bruce Willis|\n",
      "|Die Hard: With a ...| artist:27|             McClane|     Bruce Willis|\n",
      "|Die Hard: With a ...| artist:38|         Zeus Carver|Samuel L. Jackson|\n",
      "|Die Hard: With a ...|artist:169|        Simon Gruber|    Bridget Fonda|\n",
      "|  Enemy at the Gates|artist:182|     Vassili Zaïtzev|    Marlon Brando|\n",
      "|  Enemy at the Gates|artist:183|         major König|     Diane Keaton|\n",
      "|      Eyes Wide Shut|artist:102|       Alice Harford|    Nicole Kidman|\n",
      "|      Eyes Wide Shut| artist:65|Docteur William \"...|       Tom Cruise|\n",
      "|            Face/Off| artist:11|Sean Archer/Casto...|    John Travolta|\n",
      "|            Face/Off| artist:12|Castor Troy/Sean ...|     Nicolas Cage|\n",
      "+--------------------+----------+--------------------+-----------------+\n",
      "only showing top 20 rows\n",
      "\n"
     ]
    }
   ],
   "metadata": {}
  },
  {
   "cell_type": "code",
   "execution_count": 10,
   "source": [
    "#Assignement4 - Write spark code to normalize the data frames created above and store the output as 3 Hive Table in Parquet files\n",
    "\n",
    "spark.sql('create database sparkjson')\n",
    "\n",
    "\n",
    "movieJDF2.write.saveAsTable('sparkjson.movie1',format='parquet')\n",
    "artistsJDF.write.saveAsTable('sparkjson.artists',format='parquet')\n",
    "artistRoleName.write.saveAsTable('sparkjson.artistsrole',format='parquet')"
   ],
   "outputs": [],
   "metadata": {}
  },
  {
   "cell_type": "code",
   "execution_count": 11,
   "source": [
    "spark.sql('use sparkjson')\n",
    "\n",
    "spark.sql('show tables').show()"
   ],
   "outputs": [
    {
     "output_type": "stream",
     "name": "stdout",
     "text": [
      "+---------+-----------+-----------+\n",
      "| database|  tableName|isTemporary|\n",
      "+---------+-----------+-----------+\n",
      "|sparkjson|    artists|      false|\n",
      "|sparkjson|artistsrole|      false|\n",
      "|sparkjson|     movie1|      false|\n",
      "+---------+-----------+-----------+\n",
      "\n"
     ]
    }
   ],
   "metadata": {}
  },
  {
   "cell_type": "code",
   "execution_count": 12,
   "source": [
    "#Assignment 5 - Execute a Spark SQL query on hive tables to list MovieID, Title, Year, Genre, Country, Director and actors by joining on the tables\n",
    "#  created in assignment 4 and display the first 5 records in command prompt\n",
    "\t\n",
    "assignment5 = spark.sql('''select m.id,title,year,genre,country,\n",
    "        concat_ws(' ',director_fname, director_lname) as director,concat_ws(' ',first_name,last_name) as actor from \n",
    "        movie1 m inner join artists a on m.actorid = a.id''')\n",
    "\n",
    "assignment5.show(10)"
   ],
   "outputs": [
    {
     "output_type": "stream",
     "name": "stdout",
     "text": [
      "+-------+-------------+----+---------------+-------+----------------+------------------+\n",
      "|     id|        title|year|          genre|country|        director|             actor|\n",
      "+-------+-------------+----+---------------+-------+----------------+------------------+\n",
      "|movie:1|      Vertigo|1958|          Drama|    USA|Alfred Hitchcock|     James Stewart|\n",
      "|movie:1|      Vertigo|1958|          Drama|    USA|Alfred Hitchcock|         Kim Novak|\n",
      "|movie:2|        Alien|1979|Science-Fiction|    USA|    Ridley Scott|  Sigourney Weaver|\n",
      "|movie:3|      Titanic|1997|          Drama|    USA|   James Cameron|      Kate Winslet|\n",
      "|movie:3|      Titanic|1997|          Drama|    USA|   James Cameron| Leonardo DiCaprio|\n",
      "|movie:5|     Face/Off|1997|         Action|    USA|        John Woo|     John Travolta|\n",
      "|movie:5|     Face/Off|1997|         Action|    USA|        John Woo|      Nicolas Cage|\n",
      "|movie:6|Sleepy Hollow|1999|        Mystery|    USA|      Tim Burton|       Johnny Depp|\n",
      "|movie:6|Sleepy Hollow|1999|        Mystery|    USA|      Tim Burton|   Christina Ricci|\n",
      "|movie:6|Sleepy Hollow|1999|        Mystery|    USA|      Tim Burton|Christopher Walken|\n",
      "+-------+-------------+----+---------------+-------+----------------+------------------+\n",
      "only showing top 10 rows\n",
      "\n"
     ]
    }
   ],
   "metadata": {}
  },
  {
   "cell_type": "code",
   "execution_count": null,
   "source": [],
   "outputs": [],
   "metadata": {}
  }
 ],
 "metadata": {
  "orig_nbformat": 4,
  "language_info": {
   "name": "python",
   "version": "3.6.8",
   "mimetype": "text/x-python",
   "codemirror_mode": {
    "name": "ipython",
    "version": 3
   },
   "pygments_lexer": "ipython3",
   "nbconvert_exporter": "python",
   "file_extension": ".py"
  },
  "kernelspec": {
   "name": "python3",
   "display_name": "Python 3.6.8 64-bit"
  },
  "interpreter": {
   "hash": "31f2aee4e71d21fbe5cf8b01ff0e069b9275f58929596ceb00d14d90e3e16cd6"
  }
 },
 "nbformat": 4,
 "nbformat_minor": 2
}