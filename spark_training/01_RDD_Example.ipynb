{
 "cells": [
  {
   "cell_type": "code",
   "execution_count": 1,
   "source": [
    "# Import Spark Context\n",
    "from pyspark import SparkContext, SparkConf\n",
    "\n",
    "#Create Spark Context\n",
    "conf = SparkConf().setAppName('SparkS1')\n",
    "sc = SparkContext(conf=conf).getOrCreate()\n",
    "\n",
    "#Import and create SQL context using Spark Context\n",
    "\n",
    "from pyspark import SQLContext \n",
    "spark = SQLContext.getOrCreate(sc)\n",
    "\n",
    "sc.uiWebUrl"
   ],
   "outputs": [
    {
     "output_type": "execute_result",
     "data": {
      "text/plain": [
       "'http://10.0.2.15:4040'"
      ]
     },
     "metadata": {},
     "execution_count": 1
    }
   ],
   "metadata": {}
  },
  {
   "cell_type": "code",
   "execution_count": 2,
   "source": [
    "#creating lists\n",
    "list1 = [1,2,3,4,5,6,7,8,9]\n",
    "list2 = ['Jan','Feb','Mar','Apr','May']\n",
    "list3 = ['Jun','Jul','Aug','Sep','Oct']"
   ],
   "outputs": [],
   "metadata": {}
  },
  {
   "cell_type": "code",
   "execution_count": 3,
   "source": [
    "#creating rdd from lists\n",
    "rdd_l1 = sc.parallelize(list1)\n",
    "rdd_l2 = sc.parallelize(list2)\n",
    "rdd_l3 = sc.parallelize(list3)"
   ],
   "outputs": [],
   "metadata": {}
  },
  {
   "cell_type": "code",
   "execution_count": 4,
   "source": [
    "#checking number of partitions\n",
    "rdd_l1.getNumPartitions()"
   ],
   "outputs": [
    {
     "output_type": "execute_result",
     "data": {
      "text/plain": [
       "4"
      ]
     },
     "metadata": {},
     "execution_count": 4
    }
   ],
   "metadata": {}
  },
  {
   "cell_type": "code",
   "execution_count": 5,
   "source": [
    "#overide partitions\n",
    "rdd_l1 = sc.parallelize(list1,2)\n",
    "rdd_l1.getNumPartitions()"
   ],
   "outputs": [
    {
     "output_type": "execute_result",
     "data": {
      "text/plain": [
       "2"
      ]
     },
     "metadata": {},
     "execution_count": 5
    }
   ],
   "metadata": {}
  },
  {
   "cell_type": "code",
   "execution_count": 7,
   "source": [
    "#use filtering and map\n",
    "rdd_l1_filter = rdd_l1.filter(lambda x: x > 3)\n",
    "rdd_l1_map = rdd_l1_filter.map(lambda x: x * 3)\n",
    "rdd_l1_filter.collect()\n",
    "rdd_l1_map.collect()"
   ],
   "outputs": [
    {
     "output_type": "execute_result",
     "data": {
      "text/plain": [
       "[12, 15, 18, 21, 24, 27]"
      ]
     },
     "metadata": {},
     "execution_count": 7
    }
   ],
   "metadata": {}
  },
  {
   "cell_type": "code",
   "execution_count": 8,
   "source": [
    "#use filtering and map multi stage , reduce\n",
    "rdd_l1_filter = rdd_l1.filter(lambda x: x > 3)\n",
    "rdd_l1_filter2 = rdd_l1_filter.repartition(4)\n",
    "rdd_l1_map = rdd_l1_filter2.map(lambda x: x * 3)\n",
    "#rdd_l1_map.collect()\n",
    "rdd_l1_map.reduce(lambda x,y : x + y)"
   ],
   "outputs": [
    {
     "output_type": "execute_result",
     "data": {
      "text/plain": [
       "117"
      ]
     },
     "metadata": {},
     "execution_count": 8
    }
   ],
   "metadata": {}
  },
  {
   "cell_type": "code",
   "execution_count": null,
   "source": [],
   "outputs": [],
   "metadata": {}
  }
 ],
 "metadata": {
  "orig_nbformat": 4,
  "language_info": {
   "name": "python",
   "version": "3.6.8",
   "mimetype": "text/x-python",
   "codemirror_mode": {
    "name": "ipython",
    "version": 3
   },
   "pygments_lexer": "ipython3",
   "nbconvert_exporter": "python",
   "file_extension": ".py"
  },
  "kernelspec": {
   "name": "python3",
   "display_name": "Python 3.6.8 64-bit"
  },
  "interpreter": {
   "hash": "31f2aee4e71d21fbe5cf8b01ff0e069b9275f58929596ceb00d14d90e3e16cd6"
  }
 },
 "nbformat": 4,
 "nbformat_minor": 2
}