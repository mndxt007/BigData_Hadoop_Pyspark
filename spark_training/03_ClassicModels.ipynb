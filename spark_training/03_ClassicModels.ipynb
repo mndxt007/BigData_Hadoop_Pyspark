{
 "cells": [
  {
   "cell_type": "code",
   "execution_count": 1,
   "source": [
    "#Spark Imports and Get Context\n",
    "\n",
    "#https://spark.apache.org/docs/latest/sql-getting-started.html\n",
    "from pyspark import SparkContext, SparkConf, SQLContext\n",
    "from os import getcwd\n",
    "\n",
    "conf = SparkConf().setAppName('SparkS1')\n",
    "sc = SparkContext(conf=conf).getOrCreate()\n",
    "spark = SQLContext.getOrCreate(sc)"
   ],
   "outputs": [],
   "metadata": {}
  },
  {
   "cell_type": "code",
   "execution_count": 2,
   "source": [
    "#Classic Models Example\n",
    "\n",
    "#Header - orderNumber,productCode,quantityOrdered,priceEach,orderLineNumber\n",
    "orderDetailRDD = sc.textFile('../datasets/classicmodels/orderdetail.csv')\n",
    "#orderDetailRDD.take(5)\n",
    "\n",
    "#Removing Header\n",
    "header = orderDetailRDD.first()\n",
    "ODRDDWh = orderDetailRDD.filter(lambda x : x != header)\n",
    "ODRDDWh.take(5)"
   ],
   "outputs": [
    {
     "output_type": "execute_result",
     "data": {
      "text/plain": [
       "['10100,S18_1749,30,136,3',\n",
       " '10100,S18_2248,50,55.09,2',\n",
       " '10100,S18_4409,22,75.46,4',\n",
       " '10100,S24_3969,49,35.29,1',\n",
       " '10101,S18_2325,25,108.06,4']"
      ]
     },
     "metadata": {},
     "execution_count": 2
    }
   ],
   "metadata": {}
  },
  {
   "cell_type": "code",
   "execution_count": 3,
   "source": [
    "#Splitting the lines into array\n",
    "\n",
    "ODRDDWhA = ODRDDWh.map(lambda x : x.split(','))\n",
    "ODRDDWhA.take(5)"
   ],
   "outputs": [
    {
     "output_type": "execute_result",
     "data": {
      "text/plain": [
       "[['10100', 'S18_1749', '30', '136', '3'],\n",
       " ['10100', 'S18_2248', '50', '55.09', '2'],\n",
       " ['10100', 'S18_4409', '22', '75.46', '4'],\n",
       " ['10100', 'S24_3969', '49', '35.29', '1'],\n",
       " ['10101', 'S18_2325', '25', '108.06', '4']]"
      ]
     },
     "metadata": {},
     "execution_count": 3
    }
   ],
   "metadata": {}
  },
  {
   "cell_type": "code",
   "execution_count": 4,
   "source": [
    "#Total Sales for Each product\n",
    "\n",
    "ODProdAmt = ODRDDWhA.map(lambda x : (x[1],int(x[2])*float(x[3])))\n",
    "#ODProdAmt.take(5)\n",
    "\n",
    "#Summing values of Unique Product Code\n",
    "ODProdtot = ODProdAmt.reduceByKey(lambda x,y: x+y).mapValues(lambda x : round(x,2))\n",
    "ODProdtot.take(5)"
   ],
   "outputs": [
    {
     "output_type": "execute_result",
     "data": {
      "text/plain": [
       "[('S18_2795', 132275.98),\n",
       " ('S24_2022', 38449.09),\n",
       " ('S18_1342', 102563.52),\n",
       " ('S10_4962', 123123.01),\n",
       " ('S12_1666', 119085.25)]"
      ]
     },
     "metadata": {},
     "execution_count": 4
    }
   ],
   "metadata": {}
  },
  {
   "cell_type": "code",
   "execution_count": 5,
   "source": [
    "#Pair RDD Transformation - reduceByKey, groupBykey, aggregateByKey, countByKey\n",
    "\n",
    "ODProdtot1 = ODProdAmt.groupByKey().mapValues(lambda x: round(sum(x),2))\n",
    "ODProdtot1.take(5) #Same result as cmd 3\n",
    "#ODProdAmt.countByKey()"
   ],
   "outputs": [
    {
     "output_type": "execute_result",
     "data": {
      "text/plain": [
       "[('S18_2795', 132275.98),\n",
       " ('S24_2022', 38449.09),\n",
       " ('S18_1342', 102563.52),\n",
       " ('S10_4962', 123123.01),\n",
       " ('S12_1666', 119085.25)]"
      ]
     },
     "metadata": {},
     "execution_count": 5
    }
   ],
   "metadata": {}
  },
  {
   "cell_type": "code",
   "execution_count": 7,
   "source": [
    "#Accumlator\n",
    "\n",
    "#Header - orderNumber,productCode,quantityOrdered,priceEach,orderLineNumber\n",
    "orderDetailRDD = sc.textFile('../datasets/classicmodels/orderdetail.csv')\n",
    "#orderDetailRDD.take(5)\n",
    "\n",
    "#Removing Header\n",
    "header = orderDetailRDD.first()\n",
    "ODRDDWh = orderDetailRDD.filter(lambda x : x != header)\n",
    "ODRDDWh.take(5)\n",
    "\n",
    "highValAcc = sc.accumulator(0)\n",
    "\n",
    "def highValfunc(qty):\n",
    "  if (qty >= 50):\n",
    "    print(qty)\n",
    "    highValAcc.add(1)\n",
    "\n",
    "#x = ODRDDWhA.take(1)\n",
    "#x[0][2]\n",
    "\n",
    "\n",
    "ODRDDWhA.foreach(lambda x : highValfunc(int(x[2])))\n",
    "highValAcc.value"
   ],
   "outputs": [
    {
     "output_type": "execute_result",
     "data": {
      "text/plain": [
       "139"
      ]
     },
     "metadata": {},
     "execution_count": 7
    }
   ],
   "metadata": {}
  },
  {
   "cell_type": "code",
   "execution_count": null,
   "source": [],
   "outputs": [],
   "metadata": {}
  }
 ],
 "metadata": {
  "orig_nbformat": 4,
  "language_info": {
   "name": "python",
   "version": "3.6.8",
   "mimetype": "text/x-python",
   "codemirror_mode": {
    "name": "ipython",
    "version": 3
   },
   "pygments_lexer": "ipython3",
   "nbconvert_exporter": "python",
   "file_extension": ".py"
  },
  "kernelspec": {
   "name": "python3",
   "display_name": "Python 3.6.8 64-bit"
  },
  "interpreter": {
   "hash": "31f2aee4e71d21fbe5cf8b01ff0e069b9275f58929596ceb00d14d90e3e16cd6"
  }
 },
 "nbformat": 4,
 "nbformat_minor": 2
}