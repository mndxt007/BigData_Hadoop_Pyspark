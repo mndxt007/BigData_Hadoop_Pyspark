{
 "cells": [
  {
   "cell_type": "code",
   "execution_count": 1,
   "source": [
    "#Spark Imports and Get Context\n",
    "\n",
    "#https://spark.apache.org/docs/latest/sql-getting-started.html\n",
    "from pyspark import SparkContext, SparkConf, SQLContext\n",
    "from os import getcwd\n",
    "\n",
    "conf = SparkConf().setAppName('SparkS1')\n",
    "sc = SparkContext(conf=conf).getOrCreate()\n",
    "spark = SQLContext.getOrCreate(sc)"
   ],
   "outputs": [],
   "metadata": {}
  },
  {
   "cell_type": "code",
   "execution_count": 2,
   "source": [
    "#Taking RDD from Classic Models Example\n",
    "\n",
    "#Header - orderNumber,productCode,quantityOrdered,priceEach,orderLineNumber\n",
    "orderDetailRDD = sc.textFile('../datasets/classicmodels/orderdetail.csv')\n",
    "#orderDetailRDD.take(5)\n",
    "\n",
    "#Removing Header\n",
    "header = orderDetailRDD.first()\n",
    "ODRDDWh = orderDetailRDD.filter(lambda x : x != header)\n",
    "ODRDDWh.take(5)\n",
    "\n",
    "ODRDDWhA = ODRDDWh.map(lambda x : x.split(','))\n",
    "ODRDDWhA.take(5)"
   ],
   "outputs": [
    {
     "output_type": "execute_result",
     "data": {
      "text/plain": [
       "[['10100', 'S18_1749', '30', '136', '3'],\n",
       " ['10100', 'S18_2248', '50', '55.09', '2'],\n",
       " ['10100', 'S18_4409', '22', '75.46', '4'],\n",
       " ['10100', 'S24_3969', '49', '35.29', '1'],\n",
       " ['10101', 'S18_2325', '25', '108.06', '4']]"
      ]
     },
     "metadata": {},
     "execution_count": 2
    }
   ],
   "metadata": {}
  },
  {
   "cell_type": "code",
   "execution_count": 3,
   "source": [
    "#Data Frame Examples - Creating DF from RDD\n",
    "\n",
    "from pyspark.sql import Row\n",
    "\n",
    "ODRowRDD = ODRDDWhA.map(lambda x: Row (OrderNumber = x[0], ProductCode = x[1], Qty = int(x[2]), UnitPrice = float(x[3]), OrderLineNumber = int(x[4])))\n",
    "\n",
    "#ODRowRDD.take(5)\n",
    "\n",
    "ODDataFrame = spark.createDataFrame(ODRowRDD)\n",
    "ODDataFrame.show(5)"
   ],
   "outputs": [
    {
     "output_type": "stream",
     "name": "stdout",
     "text": [
      "+-----------+-----------+---+---------+---------------+\n",
      "|OrderNumber|ProductCode|Qty|UnitPrice|OrderLineNumber|\n",
      "+-----------+-----------+---+---------+---------------+\n",
      "|      10100|   S18_1749| 30|    136.0|              3|\n",
      "|      10100|   S18_2248| 50|    55.09|              2|\n",
      "|      10100|   S18_4409| 22|    75.46|              4|\n",
      "|      10100|   S24_3969| 49|    35.29|              1|\n",
      "|      10101|   S18_2325| 25|   108.06|              4|\n",
      "+-----------+-----------+---+---------+---------------+\n",
      "only showing top 5 rows\n",
      "\n"
     ]
    }
   ],
   "metadata": {}
  },
  {
   "cell_type": "code",
   "execution_count": 4,
   "source": [
    "#Creating DF with spark.read.format\n",
    "\n",
    "#Orderdetails table with inferSchema option\n",
    "ODDataFrame1 = spark.read.format('csv').option('header','true').option('inferSchema','true').load('../datasets/classicmodels/orderdetail.csv')\n",
    "ODDataFrame1.show(5)\n",
    "\n",
    "#Order table with inferSchema\n",
    "ODataFrame1 = spark.read.format('csv').option('header','true').option('inferSchema','true').load('../datasets/classicmodels/order.csv')\n",
    "ODataFrame1.show(5)"
   ],
   "outputs": [
    {
     "output_type": "stream",
     "name": "stdout",
     "text": [
      "+-----------+-----------+---------------+---------+---------------+\n",
      "|orderNumber|productCode|quantityOrdered|priceEach|orderLineNumber|\n",
      "+-----------+-----------+---------------+---------+---------------+\n",
      "|      10100|   S18_1749|             30|    136.0|              3|\n",
      "|      10100|   S18_2248|             50|    55.09|              2|\n",
      "|      10100|   S18_4409|             22|    75.46|              4|\n",
      "|      10100|   S24_3969|             49|    35.29|              1|\n",
      "|      10101|   S18_2325|             25|   108.06|              4|\n",
      "+-----------+-----------+---------------+---------+---------------+\n",
      "only showing top 5 rows\n",
      "\n",
      "+-----------+----------+------------+-----------+-------+--------------------+--------------+\n",
      "|orderNumber| orderDate|requiredDate|shippedDate| status|            comments|customerNumber|\n",
      "+-----------+----------+------------+-----------+-------+--------------------+--------------+\n",
      "|      10100|2003-01-06|  2003-01-13| 2003-01-10|Shipped|                null|           363|\n",
      "|      10101|2003-01-09|  2003-01-18| 2003-01-11|Shipped|Check on availabi...|           128|\n",
      "|      10102|2003-01-10|  2003-01-18| 2003-01-14|Shipped|                null|           181|\n",
      "|      10103|2003-01-29|  2003-02-07| 2003-02-02|Shipped|                null|           121|\n",
      "|      10104|2003-01-31|  2003-02-09| 2003-02-01|Shipped|                null|           141|\n",
      "+-----------+----------+------------+-----------+-------+--------------------+--------------+\n",
      "only showing top 5 rows\n",
      "\n"
     ]
    }
   ],
   "metadata": {}
  },
  {
   "cell_type": "code",
   "execution_count": 6,
   "source": [
    "#Using Schema option\n",
    "\n",
    "from pyspark.sql.types import StructType, StructField, IntegerType, FloatType, StringType, TimestampType\n",
    "\n",
    "orderSchema = StructType(\n",
    "[\n",
    "  StructField('orderNumber',IntegerType()),\n",
    "  StructField('orderDate',TimestampType()),\n",
    "  StructField('requiredDate',TimestampType()),\n",
    "  StructField('shippedDate',TimestampType()),\n",
    "  StructField('status',StringType()),\n",
    "  StructField('comments',StringType()),\n",
    "  StructField('customerNumber',IntegerType()),\n",
    "]\n",
    ")\n",
    "\n",
    "ODataFrameS = spark.read.format('csv').option('header','true').schema(orderSchema).load('../datasets/classicmodels/order.csv')\n",
    "ODataFrameS.show(5)"
   ],
   "outputs": [
    {
     "output_type": "stream",
     "name": "stdout",
     "text": [
      "+-----------+-------------------+-------------------+-------------------+-------+--------------------+--------------+\n",
      "|orderNumber|          orderDate|       requiredDate|        shippedDate| status|            comments|customerNumber|\n",
      "+-----------+-------------------+-------------------+-------------------+-------+--------------------+--------------+\n",
      "|      10100|2003-01-06 00:00:00|2003-01-13 00:00:00|2003-01-10 00:00:00|Shipped|                null|           363|\n",
      "|      10101|2003-01-09 00:00:00|2003-01-18 00:00:00|2003-01-11 00:00:00|Shipped|Check on availabi...|           128|\n",
      "|      10102|2003-01-10 00:00:00|2003-01-18 00:00:00|2003-01-14 00:00:00|Shipped|                null|           181|\n",
      "|      10103|2003-01-29 00:00:00|2003-02-07 00:00:00|2003-02-02 00:00:00|Shipped|                null|           121|\n",
      "|      10104|2003-01-31 00:00:00|2003-02-09 00:00:00|2003-02-01 00:00:00|Shipped|                null|           141|\n",
      "+-----------+-------------------+-------------------+-------------------+-------+--------------------+--------------+\n",
      "only showing top 5 rows\n",
      "\n"
     ]
    }
   ],
   "metadata": {}
  },
  {
   "cell_type": "code",
   "execution_count": 8,
   "source": [
    "#handling Nulls with read.csv method, options('nullvalue','null') can also be used\n",
    "\n",
    "ODataFrame2 = spark.read.csv(\n",
    "'../datasets/classicmodels/order.csv',\n",
    "header=True,\n",
    "schema=orderSchema,\n",
    "nullValue='null'\n",
    ")\n",
    "\n",
    "##for help\n",
    "#readformat = readformat.option('header','true')\n",
    "#type(readformat)\n",
    "#help(readformat)\n",
    "\n",
    "#ODataFrame2.show(5)\n",
    "\n",
    "\n",
    "ODataFrameNA = ODataFrame2.fillna('NA',['comments']) #Replace nulls with some Strings\n",
    "ODataFrameNA.show(5)"
   ],
   "outputs": [
    {
     "output_type": "stream",
     "name": "stdout",
     "text": [
      "+-----------+-------------------+-------------------+-------------------+-------+--------------------+--------------+\n",
      "|orderNumber|          orderDate|       requiredDate|        shippedDate| status|            comments|customerNumber|\n",
      "+-----------+-------------------+-------------------+-------------------+-------+--------------------+--------------+\n",
      "|      10100|2003-01-06 00:00:00|2003-01-13 00:00:00|2003-01-10 00:00:00|Shipped|                  NA|           363|\n",
      "|      10101|2003-01-09 00:00:00|2003-01-18 00:00:00|2003-01-11 00:00:00|Shipped|Check on availabi...|           128|\n",
      "|      10102|2003-01-10 00:00:00|2003-01-18 00:00:00|2003-01-14 00:00:00|Shipped|                  NA|           181|\n",
      "|      10103|2003-01-29 00:00:00|2003-02-07 00:00:00|2003-02-02 00:00:00|Shipped|                  NA|           121|\n",
      "|      10104|2003-01-31 00:00:00|2003-02-09 00:00:00|2003-02-01 00:00:00|Shipped|                  NA|           141|\n",
      "+-----------+-------------------+-------------------+-------------------+-------+--------------------+--------------+\n",
      "only showing top 5 rows\n",
      "\n"
     ]
    }
   ],
   "metadata": {}
  },
  {
   "cell_type": "code",
   "execution_count": 9,
   "source": [
    "#Operations\n",
    "\n",
    "#Drop\n",
    "ODataFrameDrop = ODataFrameNA.drop('requiredDate','shippedDate','comments')\n",
    "#ODataFrameDrop.show(5)\n",
    "\n",
    "#Join\n",
    "#ODDataFrame1.show(5)\n",
    "\n",
    "OSummary = ODataFrameDrop.join(ODDataFrame1,'orderNumber','inner')\n",
    "OSummary.show(5)\n",
    "\n",
    "#Add column\n",
    "OSumTotalAmount = OSummary.withColumn('totalAmount',OSummary.quantityOrdered * OSummary.priceEach)\n",
    "\n",
    "OSumTotalAmount.show(5)"
   ],
   "outputs": [
    {
     "output_type": "stream",
     "name": "stdout",
     "text": [
      "+-----------+-------------------+-------+--------------+-----------+---------------+---------+---------------+\n",
      "|orderNumber|          orderDate| status|customerNumber|productCode|quantityOrdered|priceEach|orderLineNumber|\n",
      "+-----------+-------------------+-------+--------------+-----------+---------------+---------+---------------+\n",
      "|      10100|2003-01-06 00:00:00|Shipped|           363|   S18_1749|             30|    136.0|              3|\n",
      "|      10100|2003-01-06 00:00:00|Shipped|           363|   S18_2248|             50|    55.09|              2|\n",
      "|      10100|2003-01-06 00:00:00|Shipped|           363|   S18_4409|             22|    75.46|              4|\n",
      "|      10100|2003-01-06 00:00:00|Shipped|           363|   S24_3969|             49|    35.29|              1|\n",
      "|      10101|2003-01-09 00:00:00|Shipped|           128|   S18_2325|             25|   108.06|              4|\n",
      "+-----------+-------------------+-------+--------------+-----------+---------------+---------+---------------+\n",
      "only showing top 5 rows\n",
      "\n",
      "+-----------+-------------------+-------+--------------+-----------+---------------+---------+---------------+-----------+\n",
      "|orderNumber|          orderDate| status|customerNumber|productCode|quantityOrdered|priceEach|orderLineNumber|totalAmount|\n",
      "+-----------+-------------------+-------+--------------+-----------+---------------+---------+---------------+-----------+\n",
      "|      10100|2003-01-06 00:00:00|Shipped|           363|   S18_1749|             30|    136.0|              3|     4080.0|\n",
      "|      10100|2003-01-06 00:00:00|Shipped|           363|   S18_2248|             50|    55.09|              2|     2754.5|\n",
      "|      10100|2003-01-06 00:00:00|Shipped|           363|   S18_4409|             22|    75.46|              4|    1660.12|\n",
      "|      10100|2003-01-06 00:00:00|Shipped|           363|   S24_3969|             49|    35.29|              1|    1729.21|\n",
      "|      10101|2003-01-09 00:00:00|Shipped|           128|   S18_2325|             25|   108.06|              4|     2701.5|\n",
      "+-----------+-------------------+-------+--------------+-----------+---------------+---------+---------------+-----------+\n",
      "only showing top 5 rows\n",
      "\n"
     ]
    }
   ],
   "metadata": {}
  },
  {
   "cell_type": "code",
   "execution_count": 10,
   "source": [
    "#Find the total sale by Product Code, Date - Sort on Desencing order of OrderDate\n",
    "from pyspark.sql.functions import sum,round,col\n",
    "\n",
    "productSummaryG = OSumTotalAmount.groupBy('productCode','orderDate','quantityOrdered')\n",
    "#help(productSummaryG) -Grouped Data\n",
    "\n",
    "productSummaryA = productSummaryG.agg(round(sum('totalAmount'),2).alias('totalSales'))\n",
    "#type(productSummaryA) - DataFrame\n",
    "#productSummaryA.show(5)\n",
    "\n",
    "productSummaryS = productSummaryA.orderBy('productCode',col('orderDate').desc())\n",
    "productSummaryS.show(5)"
   ],
   "outputs": [
    {
     "output_type": "stream",
     "name": "stdout",
     "text": [
      "+-----------+-------------------+---------------+----------+\n",
      "|productCode|          orderDate|quantityOrdered|totalSales|\n",
      "+-----------+-------------------+---------------+----------+\n",
      "|   S10_1678|2005-05-13 00:00:00|             66|   5242.38|\n",
      "|   S10_1678|2005-04-08 00:00:00|             24|   2044.08|\n",
      "|   S10_1678|2005-04-01 00:00:00|             40|    3100.8|\n",
      "|   S10_1678|2005-03-03 00:00:00|             42|   3376.38|\n",
      "|   S10_1678|2005-02-03 00:00:00|             21|   1607.76|\n",
      "+-----------+-------------------+---------------+----------+\n",
      "only showing top 5 rows\n",
      "\n"
     ]
    }
   ],
   "metadata": {}
  },
  {
   "cell_type": "code",
   "execution_count": null,
   "source": [],
   "outputs": [],
   "metadata": {}
  }
 ],
 "metadata": {
  "orig_nbformat": 4,
  "language_info": {
   "name": "python",
   "version": "3.6.8",
   "mimetype": "text/x-python",
   "codemirror_mode": {
    "name": "ipython",
    "version": 3
   },
   "pygments_lexer": "ipython3",
   "nbconvert_exporter": "python",
   "file_extension": ".py"
  },
  "kernelspec": {
   "name": "python3",
   "display_name": "Python 3.6.8 64-bit"
  },
  "interpreter": {
   "hash": "31f2aee4e71d21fbe5cf8b01ff0e069b9275f58929596ceb00d14d90e3e16cd6"
  }
 },
 "nbformat": 4,
 "nbformat_minor": 2
}