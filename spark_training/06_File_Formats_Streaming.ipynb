{
 "cells": [
  {
   "cell_type": "code",
   "execution_count": 1,
   "source": [
    "#Spark Imports and Get Context\n",
    "\n",
    "#https://spark.apache.org/docs/latest/sql-getting-started.html\n",
    "from pyspark import SparkContext, SparkConf, SQLContext\n",
    "from os import getcwd\n",
    "\n",
    "conf = SparkConf().setAppName('SparkS1')\n",
    "sc = SparkContext(conf=conf).getOrCreate()\n",
    "spark = SQLContext.getOrCreate(sc)"
   ],
   "outputs": [],
   "metadata": {}
  },
  {
   "cell_type": "code",
   "execution_count": 3,
   "source": [
    "#Import JSON \n",
    "movieJDF = spark.read.json('../datasets/movie/movies_en_1_0.txt')\n",
    "movieJDF.show(5)"
   ],
   "outputs": [
    {
     "output_type": "stream",
     "name": "stdout",
     "text": [
      "+--------------------+-------+--------------------+---------------+-------+--------------------+-------------+----+\n",
      "|              actors|country|            director|          genre|     id|             summary|        title|year|\n",
      "+--------------------+-------+--------------------+---------------+-------+--------------------+-------------+----+\n",
      "|[{artist:15, John...|    USA|{Alfred, artist:3...|          Drama|movie:1|A retired San Fra...|      Vertigo|1958|\n",
      "|[{artist:5, Ripley}]|    USA|{Ridley, artist:4...|Science-Fiction|movie:2|The commercial ve...|        Alien|1979|\n",
      "|[{artist:109, Ros...|    USA|{James, artist:6,...|          Drama|movie:3|A seventeen-year-...|      Titanic|1997|\n",
      "|                  []|     FR|{Andrei, artist:9...|          drama|movie:4|                null|The Sacrifice|1986|\n",
      "|[{artist:11, Sean...|    USA|{John, artist:10,...|         Action|movie:5|To foil an extort...|     Face/Off|1997|\n",
      "+--------------------+-------+--------------------+---------------+-------+--------------------+-------------+----+\n",
      "only showing top 5 rows\n",
      "\n"
     ]
    }
   ],
   "metadata": {}
  },
  {
   "cell_type": "code",
   "execution_count": 5,
   "source": [
    "from pyspark.sql.functions import explode,col\n",
    "\n",
    "movieJDF1 = movieJDF.withColumn('actor',explode(col('actors'))).select('id','title','actor')\n",
    "movieJDF2 = movieJDF1.select('actor.id','actor.role')\n",
    "movieJDF1.show(5)\n",
    "movieJDF2.show(5)"
   ],
   "outputs": [
    {
     "output_type": "stream",
     "name": "stdout",
     "text": [
      "+-------+-------+--------------------+\n",
      "|     id|  title|               actor|\n",
      "+-------+-------+--------------------+\n",
      "|movie:1|Vertigo|{artist:15, John ...|\n",
      "|movie:1|Vertigo|{artist:16, Madel...|\n",
      "|movie:2|  Alien|  {artist:5, Ripley}|\n",
      "|movie:3|Titanic|{artist:109, Rose...|\n",
      "|movie:3|Titanic|{artist:110, Jack...|\n",
      "+-------+-------+--------------------+\n",
      "only showing top 5 rows\n",
      "\n",
      "+----------+-------------------+\n",
      "|        id|               role|\n",
      "+----------+-------------------+\n",
      "| artist:15|      John Ferguson|\n",
      "| artist:16|   Madeleine Elster|\n",
      "|  artist:5|             Ripley|\n",
      "|artist:109|Rose DeWitt Bukater|\n",
      "|artist:110|        Jack Dawson|\n",
      "+----------+-------------------+\n",
      "only showing top 5 rows\n",
      "\n"
     ]
    }
   ],
   "metadata": {}
  },
  {
   "cell_type": "code",
   "execution_count": 6,
   "source": [
    "#streaming employee csv file and joining with office table\n",
    "from pyspark.sql.types import *\n",
    "\n",
    "empschema = StructType([\n",
    "  StructField('employeeNumber', IntegerType()),\n",
    "  StructField('lastName', StringType()),\n",
    "  StructField('firstName', StringType()),\n",
    "  StructField('extention', StringType()),\n",
    "  StructField('email', StringType()),\n",
    "  StructField('officeCode', IntegerType()),\n",
    "  StructField('reportsTo', IntegerType()),\n",
    "  StructField('jobTitle', StringType())\n",
    "]\n",
    "\n",
    ")\n",
    "\n",
    "\n",
    "empDataFrame1 = (spark.readStream.format('csv').option('header','true').schema(empschema).option('maxFilesPerTrigger',1).load('../datasets/stream/')\n",
    ")"
   ],
   "outputs": [],
   "metadata": {}
  },
  {
   "cell_type": "code",
   "execution_count": 7,
   "source": [
    "officeDF1 = spark.read.csv(\n",
    "'../datasets/classicmodels/office.csv',\n",
    "header=True,\n",
    "inferSchema = True,\n",
    "nullValue='null'\n",
    "#maxFilesPerTrigger = 1\n",
    ")\n",
    "\n",
    "empOfficeDF = empDataFrame1.join(officeDF1,'officeCode','inner').select('employeeNumber','lastName','firstName','officeCode','city','state','country','postalCode')"
   ],
   "outputs": [],
   "metadata": {}
  },
  {
   "cell_type": "code",
   "execution_count": 8,
   "source": [
    "empStream = (empOfficeDF.writeStream.format('csv')\n",
    "            .outputMode('append')\n",
    "            .option('checkpointLocation','../datasets/stream/check4')\n",
    "            .start('../datasets/stream/out5')\n",
    "           )"
   ],
   "outputs": [],
   "metadata": {}
  },
  {
   "cell_type": "code",
   "execution_count": 9,
   "source": [
    "empStream.awaitTermination(5)\n",
    "empStream.stop()"
   ],
   "outputs": [],
   "metadata": {}
  },
  {
   "cell_type": "code",
   "execution_count": 12,
   "source": [
    "%ls ../datasets/stream/out5"
   ],
   "outputs": [
    {
     "output_type": "stream",
     "name": "stdout",
     "text": [
      "part-00000-43921bfe-16a0-4d82-a3af-9cfdf4428e02-c000.csv\n",
      "part-00000-8cd84e91-09ee-42af-93f4-4bc59e05c6b4-c000.csv\n",
      "part-00000-94d0c93d-9d35-4173-ae1c-72e6504883e4-c000.csv\n",
      "part-00000-cb520fa6-8c47-4c10-ad28-75acdfcf823e-c000.csv\n",
      "part-00000-f533a849-2910-4dff-9804-f61d50d070b4-c000.csv\n",
      "\u001b[0m\u001b[38;5;27m_spark_metadata\u001b[0m/\n"
     ]
    }
   ],
   "metadata": {}
  },
  {
   "cell_type": "code",
   "execution_count": 13,
   "source": [
    "%cat ../datasets/stream/out5/part-00000-43921bfe-16a0-4d82-a3af-9cfdf4428e02-c000.csv"
   ],
   "outputs": [
    {
     "output_type": "stream",
     "name": "stdout",
     "text": [
      "1002,Murphy,Diane,1,San Francisco,CA,USA,94080\n",
      "1056,Patterson,Mary,1,San Francisco,CA,USA,94080\n",
      "1076,Firrelli,Jeff,1,San Francisco,CA,USA,94080\n",
      "1088,Patterson,William,6,Sydney,\"\",Australia,NSW 2010\n",
      "1102,Bondur,Gerard,4,Paris,NULL,France,75017\n",
      "1143,Bow,Anthony,1,San Francisco,CA,USA,94080\n",
      "1165,Jennings,Leslie,1,San Francisco,CA,USA,94080\n",
      "1166,Thompson,Leslie,1,San Francisco,CA,USA,94080\n",
      "1188,Firrelli,Julie,2,Boston,MA,USA,2107\n",
      "1216,Patterson,Steve,2,Boston,MA,USA,2107\n",
      "1286,Tseng,Foon Yue,3,NYC,NY,USA,10022\n",
      "1323,Vanauf,George,3,NYC,NY,USA,10022\n",
      "1337,Bondur,Loui,4,Paris,NULL,France,75017\n",
      "1370,Hernandez,Gerard,4,Paris,NULL,France,75017\n",
      "1401,Castillo,Pamela,4,Paris,NULL,France,75017\n",
      "1501,Bott,Larry,7,London,\"\",UK,EC2N 1HN\n",
      "1504,Jones,Barry,7,London,\"\",UK,EC2N 1HN\n",
      "1611,Fixter,Andy,6,Sydney,\"\",Australia,NSW 2010\n",
      "1612,Marsh,Peter,6,Sydney,\"\",Australia,NSW 2010\n",
      "1619,King,Tom,6,Sydney,\"\",Australia,NSW 2010\n",
      "1621,Nishi,Mami,5,Tokyo,Chiyoda-Ku,Japan,102-8578\n",
      "1625,Kato,Yoshimi,5,Tokyo,Chiyoda-Ku,Japan,102-8578\n",
      "1702,Gerard,Martin,4,Paris,NULL,France,75017\n"
     ]
    }
   ],
   "metadata": {}
  },
  {
   "cell_type": "code",
   "execution_count": null,
   "source": [],
   "outputs": [],
   "metadata": {}
  }
 ],
 "metadata": {
  "orig_nbformat": 4,
  "language_info": {
   "name": "python",
   "version": "3.6.8",
   "mimetype": "text/x-python",
   "codemirror_mode": {
    "name": "ipython",
    "version": 3
   },
   "pygments_lexer": "ipython3",
   "nbconvert_exporter": "python",
   "file_extension": ".py"
  },
  "kernelspec": {
   "name": "python3",
   "display_name": "Python 3.6.8 64-bit"
  },
  "interpreter": {
   "hash": "31f2aee4e71d21fbe5cf8b01ff0e069b9275f58929596ceb00d14d90e3e16cd6"
  }
 },
 "nbformat": 4,
 "nbformat_minor": 2
}